{
  "nbformat": 4,
  "nbformat_minor": 0,
  "metadata": {
    "colab": {
      "provenance": []
    },
    "kernelspec": {
      "name": "python3",
      "display_name": "Python 3"
    },
    "language_info": {
      "name": "python"
    }
  },
  "cells": [
    {
      "cell_type": "markdown",
      "source": [
        "# **## Data Types and Structure Theory Question**"
      ],
      "metadata": {
        "id": "QaGUrcn5RNYq"
      }
    },
    {
      "cell_type": "markdown",
      "source": [
        "1. What are data structures, and why are they important?\n",
        "-> Data structures are fundamental in computer science, acting as specialized formats for organizing, storing, and retrieving data efficiently. They are crucial for managing data in a way that makes it easier to understand, access, and manipulate, both for users and for machines."
      ],
      "metadata": {
        "id": "cMWbpllyRiJM"
      }
    },
    {
      "cell_type": "markdown",
      "source": [
        " 2. Explain the difference between mutable and immutable data types with examples.\n",
        "\n",
        " -> mutable data types can be modified after their creation, while immutable data types cannot. Mutable types allow in-place changes, while immutable types require creating new objects to represent changes.\n",
        "\n",
        " mutable example- Lists, dictionaries, and sets\n",
        "\n",
        " immutable example- Strings, tuples, frozensets, and numbers"
      ],
      "metadata": {
        "id": "rmc3rdzTU0oI"
      }
    },
    {
      "cell_type": "markdown",
      "source": [
        "3. What are the main differences between lists and tuples in Python?\n",
        "\n",
        "-> a. Mutability (Changeability)\n",
        "\n",
        "Lists are mutable: Their contents can be changed after creation.\n",
        "\n",
        "Tuples are immutable: Once created, their contents are fixed.\n",
        "\n",
        " b. Semantics (Meaning)\n",
        "\n",
        "Lists imply a sequence of items that might change — they are intended for collections of homogeneous or heterogeneous data that evolves.\n",
        "\n",
        "Tuples imply a fixed structure — often used to represent records or group related but different items (like a point in 2D space, or a function return value).\n",
        "\n",
        "c. Memory and Performance\n",
        "\n",
        "Lists require more memory overhead to support dynamic resizing.\n",
        "\n",
        "Tuples are more memory-efficient and allow for optimizations by the interpreter.\n",
        "\n",
        "d. Data Integrity and Safety\n",
        "\n",
        "Lists can accidentally be modified — more prone to bugs in shared or parallel contexts.\n",
        "\n",
        "Tuples enforce immutability — safer for multi-threading and functional programming paradigms."
      ],
      "metadata": {
        "id": "8En11JclVXDf"
      }
    },
    {
      "cell_type": "markdown",
      "source": [
        "4. Describe how dictionaries store data.\n",
        "\n",
        "-> Dictionaries are unordered collections of data and are represented with curly brackets { } . Like lists, dictionaries are mutable(changeable) and indexed. With dictionaries, data is stored in a key:value format. In this example, myCar is the variable that we have assigned our dictionary to."
      ],
      "metadata": {
        "id": "_53agTauXS1_"
      }
    },
    {
      "cell_type": "markdown",
      "source": [
        "5. Why might you use a set instead of a list in Python.\n",
        "\n",
        "-> A set in Python differs from a list primarily in its properties of uniqueness and lack of order. Sets store only unique elements, automatically discarding duplicates, while lists allow for multiple occurrences of the same value. Additionally, sets are unordered, meaning the elements do not have a specific position or index, unlike lists where elements are arranged sequentially."
      ],
      "metadata": {
        "id": "cEaEG42EXqjX"
      }
    },
    {
      "cell_type": "markdown",
      "source": [
        "6. What is a string in Python, and how is it different from a list?\n",
        "\n",
        "-> A string is a sequence of characters between single or double quotes. A list is a sequence of items, where each item could be anything (an integer, a float, a string, etc)."
      ],
      "metadata": {
        "id": "6SC_459KYZ0W"
      }
    },
    {
      "cell_type": "markdown",
      "source": [
        "7. How do tuples ensure data integrity in Python.\n",
        "\n",
        "->Tuples in Python ensure data integrity through their immutability. Once a tuple is created, its elements cannot be modified, added, or removed. This characteristic guarantees that the data stored within a tuple remains constant throughout its lifecycle, preventing accidental or unauthorized changes. Immutability makes tuples suitable for situations where data consistency is crucial, such as storing database connection settings or application configuration parameters. Tuples can also be used as keys in dictionaries and elements in sets, as their immutability allows them to be hashed."
      ],
      "metadata": {
        "id": "mqIyhAROYos_"
      }
    },
    {
      "cell_type": "markdown",
      "source": [
        "8. What is a hash table, and how does it relate to dictionaries in Python.\n",
        "\n",
        "-> A hash table is a data structure that stores key-value pairs, where each key is unique and its position in the table is determined by a hash function. This function takes the key as input and produces an index, indicating where the corresponding value is stored. Hash tables are designed for efficient insertion, deletion, and retrieval of data, offering average-case time complexity of O(1) for these operations.\n",
        "\n",
        "In Python, dictionaries are implemented using hash tables. When a key-value pair is added to a dictionary, Python calculates the hash value of the key and uses it to determine the storage location. This allows for quick access to values based on their keys. Dictionaries handle collisions, situations where different keys produce the same hash value, using techniques like separate chaining or open addressing."
      ],
      "metadata": {
        "id": "HWkO0vBxY22R"
      }
    },
    {
      "cell_type": "markdown",
      "source": [
        "9. Can lists contain different data types in Python?\n",
        "\n",
        "-> Yes, lists in Python are versatile and can contain elements of different data types. A single list can hold integers, strings, floats, booleans, and even other lists or more complex objects. This flexibility is a key feature of Python lists."
      ],
      "metadata": {
        "id": "lhBWBovVZT23"
      }
    },
    {
      "cell_type": "markdown",
      "source": [
        "10. Explain why strings are immutable in Python?\n",
        "-> Strings in Python are immutable because of design choices that prioritize efficiency, data integrity, and ease of use. Immutability ensures that once a string is created, its value cannot be altered. If a modification is needed, a new string object is created instead."
      ],
      "metadata": {
        "id": "gWmQvdtfZrXj"
      }
    },
    {
      "cell_type": "markdown",
      "source": [
        "11. What advantages do dictionaries offer over lists for certain tasks?\n",
        "\n",
        "-> Dictionaries in Python offer fast data retrieval: Unlike lists where you have to traverse through each element to find a value, dictionaries use hash tables for quick access to values based on keys."
      ],
      "metadata": {
        "id": "ByY4JIWsZ4Qh"
      }
    },
    {
      "cell_type": "markdown",
      "source": [
        "12. Describe a scenario where using a tuple would be preferable over a list.\n",
        "-> Tuples are immutable. Hence, they are primarily used to store data that doesn't change frequently. Any operation can store data in a tuple when you don't want it to change. Tuples are great to use if you want the data in your collection to be read-only, never to change, and always remain the same and constant."
      ],
      "metadata": {
        "id": "m0x2Eh5RaHYR"
      }
    },
    {
      "cell_type": "markdown",
      "source": [
        "13. How do sets handle duplicate values in Python?\n",
        "-> Sets in Python are designed to store only unique elements. When attempting to add a duplicate value to a set, Python automatically ignores it, ensuring that the set contains only distinct values. This behavior makes sets useful for tasks such as removing duplicates from a list or checking for the presence of unique items."
      ],
      "metadata": {
        "id": "fpPPll13aUG_"
      }
    },
    {
      "cell_type": "markdown",
      "source": [
        "14.  How does the “in” keyword work differently for lists and dictionaries?\n",
        "-> in dictionary 'in' checks if a key is present in the dictionary  not the value.\n",
        "\n",
        "When you use in with a list, it checks if a value is present in the list."
      ],
      "metadata": {
        "id": "fF8tdk-EbaS7"
      }
    },
    {
      "cell_type": "markdown",
      "source": [
        "15. Can you modify the elements of a tuple? Explain why or why not?\n",
        "-> No, you cannot modify the elements of a tuple in Python because tuples are immutable. This means that once a tuple is created, you can't change, add, or remove its elements."
      ],
      "metadata": {
        "id": "IjrZFvuUcIxV"
      }
    },
    {
      "cell_type": "markdown",
      "source": [
        "16. What is a nested dictionary, and give an example of its use case?\n",
        "-> A nested dictionary in Python is a dictionary where the values are themselves dictionaries. This allows for representing hierarchical or multi-layered data structures. A use case for nested dictionaries is organizing employee records, where you might store each employee's information (name, job title, etc.) as a nested dictionary, grouped by department."
      ],
      "metadata": {
        "id": "ZmcKCdqbcVVt"
      }
    },
    {
      "cell_type": "markdown",
      "source": [
        "17. Describe the time complexity of accessing elements in a dictionary.\n",
        "->The time complexity of retrieving a value by its key in a dictionary is O(1). This is because dictionaries use a hash table internally which allows constant time lookup. Why O(1)? Hash tables use the hash of the key to find the memory location which enables direct access."
      ],
      "metadata": {
        "id": "fsCnyW-OchYh"
      }
    },
    {
      "cell_type": "markdown",
      "source": [
        "18. In what situations are lists preferred over dictionaries?\n",
        "-> For quick data look-ups, configurations, or caches, favor dictionaries. For ordered collections and sequence operations, such as maintaining a stack or queue, lists are more suitable."
      ],
      "metadata": {
        "id": "SkkT4ux8cx2l"
      }
    },
    {
      "cell_type": "markdown",
      "source": [
        "19. Why are dictionaries considered unordered, and how does that affect data retrieval?\n",
        "-> A dictionary is termed an unordered collection of objects because dictionaries do not maintain any inherent order of the items based on when they were added. In older versions of Python (before 3.7), dictionaries did not preserve insertion order at all"
      ],
      "metadata": {
        "id": "KcPqXRSTc_DB"
      }
    },
    {
      "cell_type": "markdown",
      "source": [
        "20. Explain the difference between a list and a dictionary in terms of data retrieval.\n",
        "-> In terms of data retrieval, lists access elements by numerical index, while dictionaries access elements by unique keys. Lists are ordered, so accessing elements by position is efficient. Dictionaries are unordered but provide fast lookup times based on keys, says Technogeeks."
      ],
      "metadata": {
        "id": "HD-CVRFfdLk4"
      }
    },
    {
      "cell_type": "markdown",
      "source": [
        "# **## Data Types and Structure Practical Question**"
      ],
      "metadata": {
        "id": "7HxwbGeldrNQ"
      }
    },
    {
      "cell_type": "markdown",
      "source": [
        "1. Write a code to create a string with your name and print it."
      ],
      "metadata": {
        "id": "LXFjw_cmeF78"
      }
    },
    {
      "cell_type": "code",
      "source": [
        "num=\"prabhat mishra\"\n",
        "print(num)"
      ],
      "metadata": {
        "colab": {
          "base_uri": "https://localhost:8080/"
        },
        "id": "p7i0HmT9eLQa",
        "outputId": "8b0573a6-c854-400a-c6e2-fc359c383720"
      },
      "execution_count": null,
      "outputs": [
        {
          "output_type": "stream",
          "name": "stdout",
          "text": [
            "prabhat mishra\n"
          ]
        }
      ]
    },
    {
      "cell_type": "markdown",
      "source": [
        "2. Write a code to find the length of the string \"Hello World\"."
      ],
      "metadata": {
        "id": "9MzgZ8q9eb93"
      }
    },
    {
      "cell_type": "code",
      "source": [
        "s=\"Hello World\"\n",
        "print(len(s))"
      ],
      "metadata": {
        "colab": {
          "base_uri": "https://localhost:8080/"
        },
        "id": "O-fR0wLIehir",
        "outputId": "e8b855e4-8dcf-45dd-d9f1-78b3ec7df052"
      },
      "execution_count": null,
      "outputs": [
        {
          "output_type": "stream",
          "name": "stdout",
          "text": [
            "11\n"
          ]
        }
      ]
    },
    {
      "cell_type": "markdown",
      "source": [
        "3. Write a code to slice the first 3 characters from the string \"Python Programming\"."
      ],
      "metadata": {
        "id": "GgRqhll7ezD8"
      }
    },
    {
      "cell_type": "code",
      "source": [
        "s=\"Python Programming\"\n",
        "slice=s[:3]\n",
        "print(slice)"
      ],
      "metadata": {
        "colab": {
          "base_uri": "https://localhost:8080/"
        },
        "id": "L1fFVs-5e3kW",
        "outputId": "fa2ad2fb-4906-4b34-aca2-58e5ec658f8f"
      },
      "execution_count": null,
      "outputs": [
        {
          "output_type": "stream",
          "name": "stdout",
          "text": [
            "Pyt\n"
          ]
        }
      ]
    },
    {
      "cell_type": "markdown",
      "source": [
        "4. Write a code to convert the string \"hello\" to uppercase."
      ],
      "metadata": {
        "id": "OasHlhTBhqw6"
      }
    },
    {
      "cell_type": "code",
      "source": [
        "string= \"hello\"\n",
        "a=string.upper()\n",
        "print(a)"
      ],
      "metadata": {
        "colab": {
          "base_uri": "https://localhost:8080/"
        },
        "id": "0xwP_7mYhva8",
        "outputId": "e4a933e0-ba9b-4a09-8990-1957166684dc"
      },
      "execution_count": null,
      "outputs": [
        {
          "output_type": "stream",
          "name": "stdout",
          "text": [
            "HELLO\n"
          ]
        }
      ]
    },
    {
      "cell_type": "markdown",
      "source": [
        "5. Write a code to replace the word \"apple\" with \"orange\" in the string \"I like apple\"."
      ],
      "metadata": {
        "id": "Gp5rlMsniktc"
      }
    },
    {
      "cell_type": "code",
      "source": [
        "s=\"i like apple\"\n",
        "a=s.replace(\"apple\", \"orange\")\n",
        "print(a)"
      ],
      "metadata": {
        "colab": {
          "base_uri": "https://localhost:8080/"
        },
        "id": "uRq9YZeUiqc-",
        "outputId": "d519f42d-689a-4572-a866-78b710a1b324"
      },
      "execution_count": null,
      "outputs": [
        {
          "output_type": "stream",
          "name": "stdout",
          "text": [
            "i like orange\n"
          ]
        }
      ]
    },
    {
      "cell_type": "markdown",
      "source": [
        "6. Write a code to create a list with numbers 1 to 5 and print it.\n"
      ],
      "metadata": {
        "id": "DTv91Yf-jMuT"
      }
    },
    {
      "cell_type": "code",
      "source": [
        "list=[1,2,3,4,5]\n",
        "print(list)"
      ],
      "metadata": {
        "colab": {
          "base_uri": "https://localhost:8080/"
        },
        "id": "QR5Luic6jSqh",
        "outputId": "4b2e7022-4e92-4559-e482-2210a9f33795"
      },
      "execution_count": null,
      "outputs": [
        {
          "output_type": "stream",
          "name": "stdout",
          "text": [
            "[1, 2, 3, 4, 5]\n"
          ]
        }
      ]
    },
    {
      "cell_type": "markdown",
      "source": [
        "7. Write a code to append the number 10 to the list [1, 2, 3, 4].\n"
      ],
      "metadata": {
        "id": "obN4LTNajhQf"
      }
    },
    {
      "cell_type": "code",
      "source": [
        "list=[1,2,3,4]\n",
        "list.append(10)\n",
        "print(list)"
      ],
      "metadata": {
        "colab": {
          "base_uri": "https://localhost:8080/"
        },
        "id": "X3vqMoGvjnBf",
        "outputId": "0405059c-cfed-47b5-be4c-51dd00281e01"
      },
      "execution_count": null,
      "outputs": [
        {
          "output_type": "stream",
          "name": "stdout",
          "text": [
            "[1, 2, 3, 4, 10]\n"
          ]
        }
      ]
    },
    {
      "cell_type": "markdown",
      "source": [
        "8. Write a code to remove the number 3 from the list [1, 2, 3, 4, 5]."
      ],
      "metadata": {
        "id": "HH2ttfyUj1aj"
      }
    },
    {
      "cell_type": "code",
      "source": [
        "list=[1,2,3,4,5]\n",
        "list.remove(3)\n",
        "print(list)"
      ],
      "metadata": {
        "colab": {
          "base_uri": "https://localhost:8080/"
        },
        "id": "JUucm08Pj7EM",
        "outputId": "219914b2-c9a8-4e4d-9016-b3b7af54229a"
      },
      "execution_count": null,
      "outputs": [
        {
          "output_type": "stream",
          "name": "stdout",
          "text": [
            "[1, 2, 4, 5]\n"
          ]
        }
      ]
    },
    {
      "cell_type": "markdown",
      "source": [
        "9. Write a code to access the second element in the list ['a', 'b', 'c', 'd']."
      ],
      "metadata": {
        "id": "LAEZTVlZkDvQ"
      }
    },
    {
      "cell_type": "code",
      "source": [
        "list=['a','b','c','d']\n",
        "print(list[1])"
      ],
      "metadata": {
        "colab": {
          "base_uri": "https://localhost:8080/"
        },
        "id": "W0I0_Ef5kIPc",
        "outputId": "07bd313b-3e21-4234-dbdf-c86a23fe8cff"
      },
      "execution_count": null,
      "outputs": [
        {
          "output_type": "stream",
          "name": "stdout",
          "text": [
            "b\n"
          ]
        }
      ]
    },
    {
      "cell_type": "markdown",
      "source": [
        "10. Write a code to reverse the list [10, 20, 30, 40, 50]."
      ],
      "metadata": {
        "id": "XS-ZCdcukZd9"
      }
    },
    {
      "cell_type": "code",
      "source": [
        "list=[10,20,30,40,50]\n",
        "list.reverse()\n",
        "print(list)"
      ],
      "metadata": {
        "colab": {
          "base_uri": "https://localhost:8080/"
        },
        "id": "r3r5_IFEkeBT",
        "outputId": "81fe5264-2440-4a2e-bb38-a7175a0dc098"
      },
      "execution_count": null,
      "outputs": [
        {
          "output_type": "stream",
          "name": "stdout",
          "text": [
            "[50, 40, 30, 20, 10]\n"
          ]
        }
      ]
    },
    {
      "cell_type": "markdown",
      "source": [
        "11. Write a code to create a tuple with the elements 100, 200, 300 and print it."
      ],
      "metadata": {
        "id": "-CN4mpcPYq1z"
      }
    },
    {
      "cell_type": "code",
      "source": [
        "my_tuple = (100, 200, 300)\n",
        "print(my_tuple)"
      ],
      "metadata": {
        "colab": {
          "base_uri": "https://localhost:8080/"
        },
        "id": "KmYYs7KdYyxP",
        "outputId": "834c4954-9500-4257-9bdc-15300bc345db"
      },
      "execution_count": null,
      "outputs": [
        {
          "output_type": "stream",
          "name": "stdout",
          "text": [
            "(100, 200, 300)\n"
          ]
        }
      ]
    },
    {
      "cell_type": "markdown",
      "source": [
        "12.  Write a code to access the second-to-last element of the tuple ('red', 'green', 'blue', 'yellow')."
      ],
      "metadata": {
        "id": "6afNWHbeZgPp"
      }
    },
    {
      "cell_type": "code",
      "source": [
        "tuple=('red', 'green', 'blue', 'yellow')\n",
        "a=tuple[-2]\n",
        "print(a)\n"
      ],
      "metadata": {
        "colab": {
          "base_uri": "https://localhost:8080/"
        },
        "id": "TwycNXBqZok9",
        "outputId": "b6e8d643-b58e-41e4-a426-408efce05ed0"
      },
      "execution_count": null,
      "outputs": [
        {
          "output_type": "stream",
          "name": "stdout",
          "text": [
            "blue\n"
          ]
        }
      ]
    },
    {
      "cell_type": "markdown",
      "source": [
        "13. Write a code to find the minimum number in the tuple (10, 20, 5, 15)."
      ],
      "metadata": {
        "id": "MKCiHgHjaCKD"
      }
    },
    {
      "cell_type": "code",
      "source": [
        "tuple=(10,20,5,15)\n",
        "a=min(tuple)\n",
        "print(a)"
      ],
      "metadata": {
        "colab": {
          "base_uri": "https://localhost:8080/"
        },
        "id": "9hWcPtPqaG5M",
        "outputId": "07d28ec7-95fb-429f-94cf-d30cba0f8dcf"
      },
      "execution_count": null,
      "outputs": [
        {
          "output_type": "stream",
          "name": "stdout",
          "text": [
            "5\n"
          ]
        }
      ]
    },
    {
      "cell_type": "markdown",
      "source": [
        "14.  Write a code to find the index of the element \"cat\" in the tuple ('dog', 'cat', 'rabbit')."
      ],
      "metadata": {
        "id": "kLeB8taxauzK"
      }
    },
    {
      "cell_type": "code",
      "source": [
        "tuple= ('dog', 'cat', 'rabbit')\n",
        "a=tuple.index(\"cat\")\n",
        "print(a)"
      ],
      "metadata": {
        "colab": {
          "base_uri": "https://localhost:8080/"
        },
        "id": "vyM53mLvbA2Z",
        "outputId": "1ca3df42-9eee-4f77-9cc9-cd4fc41217cc"
      },
      "execution_count": null,
      "outputs": [
        {
          "output_type": "stream",
          "name": "stdout",
          "text": [
            "1\n"
          ]
        }
      ]
    },
    {
      "cell_type": "markdown",
      "source": [
        "15.  Write a code to create a tuple containing three different fruits and check if \"kiwi\" is in it."
      ],
      "metadata": {
        "id": "91W0uGEbbgAU"
      }
    },
    {
      "cell_type": "code",
      "source": [
        "fruits = (\"apple\", \"banana\", \"orange\")\n",
        "\n",
        "if \"kiwi\" in fruits:\n",
        "    print(\"Kiwi is in the tuple.\")\n",
        "else:\n",
        "    print(\"Kiwi is not in the tuple.\")"
      ],
      "metadata": {
        "colab": {
          "base_uri": "https://localhost:8080/"
        },
        "id": "fXG-KrVmblVb",
        "outputId": "4c60de60-65f3-4b07-d158-99ef3f8e1aa8"
      },
      "execution_count": null,
      "outputs": [
        {
          "output_type": "stream",
          "name": "stdout",
          "text": [
            "Kiwi is not in the tuple.\n"
          ]
        }
      ]
    },
    {
      "cell_type": "markdown",
      "source": [
        "16.  Write a code to create a set with the elements 'a', 'b', 'c' and print it."
      ],
      "metadata": {
        "id": "4OjiDIMiQfx2"
      }
    },
    {
      "cell_type": "code",
      "source": [
        "set={'a','b','c'}\n",
        "print(set)"
      ],
      "metadata": {
        "colab": {
          "base_uri": "https://localhost:8080/"
        },
        "id": "cZ_6NEI_QmGv",
        "outputId": "ca5a91f9-6876-447c-f50f-0bd6f426dfde"
      },
      "execution_count": 1,
      "outputs": [
        {
          "output_type": "stream",
          "name": "stdout",
          "text": [
            "{'a', 'c', 'b'}\n"
          ]
        }
      ]
    },
    {
      "cell_type": "markdown",
      "source": [
        "17. Write a code to clear all elements from the set {1, 2, 3, 4, 5}."
      ],
      "metadata": {
        "id": "O8p7HoEKRD8H"
      }
    },
    {
      "cell_type": "code",
      "source": [
        "set={1,2,3,4,5}\n",
        "set.clear()\n",
        "print(set)"
      ],
      "metadata": {
        "colab": {
          "base_uri": "https://localhost:8080/"
        },
        "id": "f7rONWLkRIoJ",
        "outputId": "d19d6815-3f4e-43d4-ab74-213abe4b8f53"
      },
      "execution_count": 2,
      "outputs": [
        {
          "output_type": "stream",
          "name": "stdout",
          "text": [
            "set()\n"
          ]
        }
      ]
    },
    {
      "cell_type": "markdown",
      "source": [
        "18.  Write a code to remove the element 4 from the set {1, 2, 3, 4}."
      ],
      "metadata": {
        "id": "U0SdDvFHRbEx"
      }
    },
    {
      "cell_type": "code",
      "source": [
        "from os import remove\n",
        "set={1,2,3,4}\n",
        "set.remove(4)\n",
        "print(set)"
      ],
      "metadata": {
        "colab": {
          "base_uri": "https://localhost:8080/"
        },
        "id": "AnEqpnO3Rfsh",
        "outputId": "8b8bdc40-e2b1-4146-f11f-1cbf70c5f195"
      },
      "execution_count": 4,
      "outputs": [
        {
          "output_type": "stream",
          "name": "stdout",
          "text": [
            "{1, 2, 3}\n"
          ]
        }
      ]
    },
    {
      "cell_type": "markdown",
      "source": [
        "19. Write a code to find the union of two sets {1, 2, 3} and {3, 4, 5}."
      ],
      "metadata": {
        "id": "6u1AMv9gRvCr"
      }
    },
    {
      "cell_type": "code",
      "source": [
        "set1={1,2,3}\n",
        "set2={3,4,5}\n",
        "a=set1.union(set2)\n",
        "print(a)"
      ],
      "metadata": {
        "colab": {
          "base_uri": "https://localhost:8080/"
        },
        "id": "KpmP-AuBR1QJ",
        "outputId": "89de5285-d3e8-48d0-e223-8c364d5762d6"
      },
      "execution_count": 5,
      "outputs": [
        {
          "output_type": "stream",
          "name": "stdout",
          "text": [
            "{1, 2, 3, 4, 5}\n"
          ]
        }
      ]
    },
    {
      "cell_type": "markdown",
      "source": [
        "20. Write a code to find the intersection of two sets {1, 2, 3} and {2, 3, 4}."
      ],
      "metadata": {
        "id": "DVt9VBX_SImQ"
      }
    },
    {
      "cell_type": "code",
      "source": [
        "set1={1,2,3}\n",
        "set2={2,3,4}\n",
        "a=set1.intersection(set2)\n",
        "print(a)"
      ],
      "metadata": {
        "colab": {
          "base_uri": "https://localhost:8080/"
        },
        "id": "JuRzU1JsSMYa",
        "outputId": "66f69e37-c7c7-4574-9d0e-bf6574580c46"
      },
      "execution_count": 6,
      "outputs": [
        {
          "output_type": "stream",
          "name": "stdout",
          "text": [
            "{2, 3}\n"
          ]
        }
      ]
    },
    {
      "cell_type": "markdown",
      "source": [
        "21. Write a code to create a dictionary with the keys \"name\", \"age\", and \"city\", and print it."
      ],
      "metadata": {
        "id": "PPcvu1urSVZf"
      }
    },
    {
      "cell_type": "code",
      "source": [
        "person = {\n",
        "    \"name\": \"Alice\",\n",
        "    \"age\": 30,\n",
        "    \"city\": \"New York\"\n",
        "}\n",
        "\n",
        "print(person)\n"
      ],
      "metadata": {
        "colab": {
          "base_uri": "https://localhost:8080/"
        },
        "id": "IopQoYc8SaUE",
        "outputId": "0c93cd55-2763-4ba9-f415-a5f0dc768853"
      },
      "execution_count": 7,
      "outputs": [
        {
          "output_type": "stream",
          "name": "stdout",
          "text": [
            "{'name': 'Alice', 'age': 30, 'city': 'New York'}\n"
          ]
        }
      ]
    },
    {
      "cell_type": "markdown",
      "source": [
        "22. Write a code to add a new key-value pair \"country\": \"USA\" to the dictionary {'name': 'John', 'age': 25}."
      ],
      "metadata": {
        "id": "yqwaLEhVSpch"
      }
    },
    {
      "cell_type": "code",
      "source": [
        "dict={'name': 'John', 'age': 25}\n",
        "dict['country'] = 'USA'\n",
        "print(dict)"
      ],
      "metadata": {
        "colab": {
          "base_uri": "https://localhost:8080/"
        },
        "id": "8peF6U-1StE0",
        "outputId": "a20d1dd5-f05b-464b-a2cd-d53bdd5364e2"
      },
      "execution_count": 8,
      "outputs": [
        {
          "output_type": "stream",
          "name": "stdout",
          "text": [
            "{'name': 'John', 'age': 25, 'country': 'USA'}\n"
          ]
        }
      ]
    },
    {
      "cell_type": "markdown",
      "source": [
        "23.  Write a code to access the value associated with the key \"name\" in the dictionary {'name': 'Alice', 'age': 30}."
      ],
      "metadata": {
        "id": "_cgPzeFbTR0A"
      }
    },
    {
      "cell_type": "code",
      "source": [
        "dict={'name':\"alice\",'age':30}\n",
        "print(dict['name'])"
      ],
      "metadata": {
        "colab": {
          "base_uri": "https://localhost:8080/"
        },
        "id": "MnEiwZOBTYVi",
        "outputId": "cb7c680a-bd14-4cf6-9562-c46a90d1e004"
      },
      "execution_count": 9,
      "outputs": [
        {
          "output_type": "stream",
          "name": "stdout",
          "text": [
            "alice\n"
          ]
        }
      ]
    },
    {
      "cell_type": "markdown",
      "source": [
        "24. Write a code to remove the key \"age\" from the dictionary {'name': 'Bob', 'age': 22, 'city': 'New York'}.\n",
        "\n"
      ],
      "metadata": {
        "id": "TNSkTSecTps-"
      }
    },
    {
      "cell_type": "code",
      "source": [
        "dict={'name': 'Bob', 'age': 22, 'city': 'New York'}\n",
        "dict.pop('age')\n",
        "print(dict)"
      ],
      "metadata": {
        "colab": {
          "base_uri": "https://localhost:8080/"
        },
        "id": "evQLpjRiTwTu",
        "outputId": "bececd1b-1fba-4f59-9685-6dfbe8f11af9"
      },
      "execution_count": 12,
      "outputs": [
        {
          "output_type": "stream",
          "name": "stdout",
          "text": [
            "{'name': 'Bob', 'city': 'New York'}\n"
          ]
        }
      ]
    },
    {
      "cell_type": "markdown",
      "source": [
        "25.  Write a code to check if the key \"city\" exists in the dictionary {'name': 'Alice', 'city': 'Paris'}."
      ],
      "metadata": {
        "id": "LvqRJMcYUK-q"
      }
    },
    {
      "cell_type": "code",
      "source": [
        "\n",
        "dict={'name': 'Alice', 'city': 'Paris'}\n",
        "if 'city' in dict:\n",
        "  print(\"city exist in code\")\n",
        "else:\n",
        "  print(\"city does not exist in code\")"
      ],
      "metadata": {
        "colab": {
          "base_uri": "https://localhost:8080/"
        },
        "id": "_0q9TMQQURhr",
        "outputId": "a65f9d0e-7e53-4b9a-abe0-78d773f3eced"
      },
      "execution_count": 16,
      "outputs": [
        {
          "output_type": "stream",
          "name": "stdout",
          "text": [
            "city exist in code\n"
          ]
        }
      ]
    },
    {
      "cell_type": "markdown",
      "source": [
        "26. Write a code to create a list, a tuple, and a dictionary, and print them all."
      ],
      "metadata": {
        "id": "baKK_JqfVZo-"
      }
    },
    {
      "cell_type": "code",
      "source": [
        "my_list = [1, 2, 3, 4, 5]\n",
        "my_tuple = ('apple', 'banana', 'cherry')\n",
        "my_dict = {'name': 'Alice', 'age': 30, 'city': 'Paris'}\n",
        "\n",
        "print(\"List:\", my_list)\n",
        "print(\"Tuple:\", my_tuple)\n",
        "print(\"Dictionary:\", my_dict)\n"
      ],
      "metadata": {
        "colab": {
          "base_uri": "https://localhost:8080/"
        },
        "id": "dg3GL_FqVfCi",
        "outputId": "e6aceb60-2b96-4f8f-ea88-dbb401a36df2"
      },
      "execution_count": 17,
      "outputs": [
        {
          "output_type": "stream",
          "name": "stdout",
          "text": [
            "List: [1, 2, 3, 4, 5]\n",
            "Tuple: ('apple', 'banana', 'cherry')\n",
            "Dictionary: {'name': 'Alice', 'age': 30, 'city': 'Paris'}\n"
          ]
        }
      ]
    },
    {
      "cell_type": "markdown",
      "source": [
        "27.  Write a code to create a list of 5 random numbers between 1 and 100, sort it in ascending order, and print the\n",
        "result.(replaced)\n",
        "\n"
      ],
      "metadata": {
        "id": "KLSXDDsrVp_T"
      }
    },
    {
      "cell_type": "code",
      "source": [
        "import random\n",
        "random_numbers = [random.randint(1, 100) for _ in range(5)]\n",
        "\n",
        "random_numbers.sort()\n",
        "\n",
        "print(random_numbers)"
      ],
      "metadata": {
        "colab": {
          "base_uri": "https://localhost:8080/"
        },
        "id": "5FfJ_z2zVtvA",
        "outputId": "275936e4-51fe-492e-c775-8078e08ffc9d"
      },
      "execution_count": 18,
      "outputs": [
        {
          "output_type": "stream",
          "name": "stdout",
          "text": [
            "[15, 19, 46, 50, 73]\n"
          ]
        }
      ]
    },
    {
      "cell_type": "markdown",
      "source": [
        "28.  Write a code to create a list with strings and print the element at the third index"
      ],
      "metadata": {
        "id": "K51ZaNu2WfXf"
      }
    },
    {
      "cell_type": "code",
      "source": [
        "\n",
        "my_list = ['apple', 'banana', 'cherry', 'date', 'elderberry']\n",
        "print(\"Element at index 3:\", my_list[3])\n"
      ],
      "metadata": {
        "colab": {
          "base_uri": "https://localhost:8080/"
        },
        "id": "UUhCcA7oWlxC",
        "outputId": "8f14ecab-a45f-4f77-a7f1-0e2f6cab294e"
      },
      "execution_count": 19,
      "outputs": [
        {
          "output_type": "stream",
          "name": "stdout",
          "text": [
            "Element at index 3: date\n"
          ]
        }
      ]
    },
    {
      "cell_type": "markdown",
      "source": [
        "29.  Write a code to combine two dictionaries into one and print the result."
      ],
      "metadata": {
        "id": "scMwtq4fWxxQ"
      }
    },
    {
      "cell_type": "code",
      "source": [
        "dict1 = {'a': 1, 'b': 2}\n",
        "dict2 = {'c': 3, 'd': 4}\n",
        "\n",
        "combined_dict = {**dict1, **dict2}\n",
        "\n",
        "print(\"Combined dictionary:\", combined_dict)\n"
      ],
      "metadata": {
        "colab": {
          "base_uri": "https://localhost:8080/"
        },
        "id": "HrUZqq8VW1o1",
        "outputId": "6932a9e3-4757-41e4-f8e3-04ace0b15522"
      },
      "execution_count": 20,
      "outputs": [
        {
          "output_type": "stream",
          "name": "stdout",
          "text": [
            "Combined dictionary: {'a': 1, 'b': 2, 'c': 3, 'd': 4}\n"
          ]
        }
      ]
    },
    {
      "cell_type": "markdown",
      "source": [
        "30. Write a code to convert a list of strings into a set."
      ],
      "metadata": {
        "id": "YXoCDtxFXIUd"
      }
    },
    {
      "cell_type": "code",
      "source": [
        "my_list = ['apple', 'banana', 'cherry', 'apple']\n",
        "my_set = {item for item in my_list}\n",
        "\n",
        "print(\"Converted set using set comprehension:\", my_set)\n"
      ],
      "metadata": {
        "colab": {
          "base_uri": "https://localhost:8080/"
        },
        "id": "OA1BxYN0YYpr",
        "outputId": "b7ef481c-67c2-4627-fb72-c20699d7ad8b"
      },
      "execution_count": 25,
      "outputs": [
        {
          "output_type": "stream",
          "name": "stdout",
          "text": [
            "Converted set using set comprehension: {'apple', 'banana', 'cherry'}\n"
          ]
        }
      ]
    }
  ]
}